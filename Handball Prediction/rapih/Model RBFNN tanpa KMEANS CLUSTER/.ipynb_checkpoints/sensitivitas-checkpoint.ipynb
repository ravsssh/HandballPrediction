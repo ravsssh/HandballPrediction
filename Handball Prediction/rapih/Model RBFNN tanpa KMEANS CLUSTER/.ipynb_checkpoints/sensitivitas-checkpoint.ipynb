{
 "cells": [
  {
   "cell_type": "code",
   "execution_count": 9,
   "id": "9ff7db8a-1886-45fc-8722-29271e731ecd",
   "metadata": {},
   "outputs": [],
   "source": [
    "import tensorflow as tf\n",
    "from tensorflow.keras.layers import Dense, Flatten, Layer\n",
    "from tensorflow.keras.models import Sequential\n",
    "from tensorflow.keras.losses import mean_squared_error\n",
    "from tensorflow.keras import backend as K\n",
    "from tensorflow.keras.models import load_model\n",
    "from keras.utils import get_custom_objects\n",
    "\n",
    "# Import your RBFLayer class here\n",
    "class RBFLayer(Layer):\n",
    "    def __init__(self, units, gamma, **kwargs):\n",
    "        super(RBFLayer, self).__init__(**kwargs)\n",
    "        self.units = units\n",
    "        self.gamma = gamma\n",
    "\n",
    "    def build(self, input_shape):\n",
    "        # Create a trainable weight variable for the centers of the RBFs\n",
    "        self.centers = self.add_weight(name='centers',\n",
    "                                      shape=(self.units, input_shape[-1]),\n",
    "                                      initializer='uniform',\n",
    "                                      trainable=True)\n",
    "        super(RBFLayer, self).build(input_shape)\n",
    "\n",
    "    def call(self, inputs):\n",
    "        # Calculate the radial basis functions for each input sample and each RBF center\n",
    "        diff = K.expand_dims(inputs) - self.centers  # shape: (batch_size, units, input_dim)\n",
    "        norm = K.sum(K.square(diff), axis=-1)  # shape: (batch_size, units)\n",
    "        rbf = K.exp(-self.gamma * norm)  # shape: (batch_size, units)\n",
    "\n",
    "        return rbf\n",
    "\n",
    "    def compute_output_shape(self, input_shape):\n",
    "        return input_shape[0], self.units\n",
    "# Register the custom layer\n",
    "get_custom_objects().update({'RBFLayer': RBFLayer})\n",
    "\n",
    "# Load the model\n",
    "loaded_model = load_model('modelacc_LW.h5')\n"
   ]
  },
  {
   "cell_type": "code",
   "execution_count": 10,
   "id": "b7d0e3e9-c1df-4174-8c1d-9d325937752a",
   "metadata": {},
   "outputs": [
    {
     "name": "stdout",
     "output_type": "stream",
     "text": [
      "1/1 [==============================] - 0s 67ms/step\n",
      "[[10.978237]\n",
      " [10.978237]\n",
      " [10.978237]\n",
      " [10.978237]\n",
      " [10.978237]\n",
      " [10.978237]]\n"
     ]
    }
   ],
   "source": [
    "new_data = [1,1,1,1,1,1]  # Your new data as a numpy array or similar\n",
    "\n",
    "# Make predictions using the loaded model\n",
    "predictions = loaded_model.predict(new_data)\n",
    "\n",
    "# 'predictions' will contain the model's predicted values for the new data\n",
    "print(predictions)\n"
   ]
  }
 ],
 "metadata": {
  "kernelspec": {
   "display_name": "Python 3 (ipykernel)",
   "language": "python",
   "name": "python3"
  },
  "language_info": {
   "codemirror_mode": {
    "name": "ipython",
    "version": 3
   },
   "file_extension": ".py",
   "mimetype": "text/x-python",
   "name": "python",
   "nbconvert_exporter": "python",
   "pygments_lexer": "ipython3",
   "version": "3.10.9"
  }
 },
 "nbformat": 4,
 "nbformat_minor": 5
}
