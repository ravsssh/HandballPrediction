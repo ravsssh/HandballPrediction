{
 "cells": [
  {
   "cell_type": "code",
   "execution_count": 5,
   "id": "3afcf8ed-63a2-4f9f-bedd-d4c76312be5c",
   "metadata": {
    "tags": []
   },
   "outputs": [],
   "source": [
    "import numpy as np\n",
    "import pandas as pd\n",
    "import matplotlib.pyplot as plt\n",
    "from sklearn.model_selection import train_test_split\n",
    "from sklearn.preprocessing import MinMaxScaler\n",
    "from sklearn.metrics import r2_score, mean_squared_error, mean_absolute_error"
   ]
  },
  {
   "cell_type": "markdown",
   "id": "9056c4cc-480c-49ac-abce-139246103e01",
   "metadata": {
    "tags": []
   },
   "source": [
    "## **Radial Basis Function**"
   ]
  },
  {
   "cell_type": "code",
   "execution_count": 6,
   "id": "5aad68f1-1c1d-441e-b2c1-4a4a8ae6edbf",
   "metadata": {
    "tags": []
   },
   "outputs": [],
   "source": [
    "import tensorflow as tf\n",
    "from tensorflow.keras.layers import Dense, Flatten, Layer\n",
    "from tensorflow.keras.models import Sequential\n",
    "from tensorflow.keras.losses import mean_squared_error, mean_absolute_error\n",
    "from tensorflow.keras import backend as K\n",
    "\n",
    "class RBFLayer(Layer):\n",
    "    # Banyak neuron sesuai dengan jumlah input dan menentukan gamma RBF \n",
    "    def __init__(self, units, gamma, **kwargs):\n",
    "        super(RBFLayer, self).__init__(**kwargs)\n",
    "        self.units = units\n",
    "        self.gamma = gamma\n",
    "\n",
    "    def build(self, input_shape):\n",
    "        # Membuat sebuah matrix weight yang nantinya akan dilatih untuk nilai tengah dari sebuah RBF\n",
    "        self.centers = self.add_weight(name='centers',\n",
    "                                      shape=(self.units, input_shape[-1]),\n",
    "                                      initializer='uniform',\n",
    "                                      trainable=True)\n",
    "        super(RBFLayer, self).build(input_shape)\n",
    "\n",
    "    def call(self, inputs):\n",
    "        # Menghitung fungsi radial basis dari setiap input dan setiap nilai tengah RBF\n",
    "        diff = K.expand_dims(inputs) - self.centers  # shape: (batch_size, units, input_dim)\n",
    "        norm = K.sum(K.square(diff), axis=-1)  # shape: (batch_size, units)\n",
    "        rbf = K.exp(-self.gamma * norm)  # shape: (batch_size, units)\n",
    "\n",
    "        return rbf\n",
    "\n",
    "    def compute_output_shape(self, input_shape):\n",
    "        return input_shape[0], self.units"
   ]
  },
  {
   "cell_type": "code",
   "execution_count": 7,
   "id": "0b55cc85-9cdd-4992-8a04-e2432ab18980",
   "metadata": {
    "tags": []
   },
   "outputs": [
    {
     "name": "stdout",
     "output_type": "stream",
     "text": [
      "Epoch 1/100\n",
      "115/115 [==============================] - 0s 1ms/step - loss: 7.6026\n",
      "Epoch 2/100\n",
      "115/115 [==============================] - 0s 1ms/step - loss: 6.6668\n",
      "Epoch 3/100\n",
      "115/115 [==============================] - 0s 1ms/step - loss: 5.9679\n",
      "Epoch 4/100\n",
      "115/115 [==============================] - 0s 1ms/step - loss: 5.3635\n",
      "Epoch 5/100\n",
      "115/115 [==============================] - 0s 1ms/step - loss: 4.8492\n",
      "Epoch 6/100\n",
      "115/115 [==============================] - 0s 936us/step - loss: 4.4107\n",
      "Epoch 7/100\n",
      "115/115 [==============================] - 0s 1ms/step - loss: 4.0445\n",
      "Epoch 8/100\n",
      "115/115 [==============================] - 0s 1ms/step - loss: 3.7411\n",
      "Epoch 9/100\n",
      "115/115 [==============================] - 0s 1ms/step - loss: 3.4770\n",
      "Epoch 10/100\n",
      "115/115 [==============================] - 0s 1ms/step - loss: 3.2291\n",
      "Epoch 11/100\n",
      "115/115 [==============================] - 0s 1ms/step - loss: 2.9828\n",
      "Epoch 12/100\n",
      "115/115 [==============================] - 0s 1ms/step - loss: 2.7360\n",
      "Epoch 13/100\n",
      "115/115 [==============================] - 0s 1ms/step - loss: 2.5105\n",
      "Epoch 14/100\n",
      "115/115 [==============================] - 0s 997us/step - loss: 2.2960\n",
      "Epoch 15/100\n",
      "115/115 [==============================] - 0s 1ms/step - loss: 2.0983\n",
      "Epoch 16/100\n",
      "115/115 [==============================] - 0s 1ms/step - loss: 1.9055\n",
      "Epoch 17/100\n",
      "115/115 [==============================] - 0s 998us/step - loss: 1.7349\n",
      "Epoch 18/100\n",
      "115/115 [==============================] - 0s 1ms/step - loss: 1.5905\n",
      "Epoch 19/100\n",
      "115/115 [==============================] - 0s 962us/step - loss: 1.4597\n",
      "Epoch 20/100\n",
      "115/115 [==============================] - 0s 989us/step - loss: 1.3510\n",
      "Epoch 21/100\n",
      "115/115 [==============================] - 0s 1ms/step - loss: 1.2573\n",
      "Epoch 22/100\n",
      "115/115 [==============================] - 0s 1ms/step - loss: 1.1827\n",
      "Epoch 23/100\n",
      "115/115 [==============================] - 0s 1ms/step - loss: 1.1148\n",
      "Epoch 24/100\n",
      "115/115 [==============================] - 0s 1ms/step - loss: 1.0615\n",
      "Epoch 25/100\n",
      "115/115 [==============================] - 0s 971us/step - loss: 1.0111\n",
      "Epoch 26/100\n",
      "115/115 [==============================] - 0s 997us/step - loss: 0.9670\n",
      "Epoch 27/100\n",
      "115/115 [==============================] - 0s 980us/step - loss: 0.9245\n",
      "Epoch 28/100\n",
      "115/115 [==============================] - 0s 1ms/step - loss: 0.8930\n",
      "Epoch 29/100\n",
      "115/115 [==============================] - 0s 1ms/step - loss: 0.8630\n",
      "Epoch 30/100\n",
      "115/115 [==============================] - 0s 1ms/step - loss: 0.8308\n",
      "Epoch 31/100\n",
      "115/115 [==============================] - 0s 1ms/step - loss: 0.8023\n",
      "Epoch 32/100\n",
      "115/115 [==============================] - 0s 1ms/step - loss: 0.7770\n",
      "Epoch 33/100\n",
      "115/115 [==============================] - 0s 1ms/step - loss: 0.7526\n",
      "Epoch 34/100\n",
      "115/115 [==============================] - 0s 1ms/step - loss: 0.7271\n",
      "Epoch 35/100\n",
      "115/115 [==============================] - 0s 1ms/step - loss: 0.7069\n",
      "Epoch 36/100\n",
      "115/115 [==============================] - 0s 1ms/step - loss: 0.6879\n",
      "Epoch 37/100\n",
      "115/115 [==============================] - 0s 1ms/step - loss: 0.6674\n",
      "Epoch 38/100\n",
      "115/115 [==============================] - 0s 1ms/step - loss: 0.6505\n",
      "Epoch 39/100\n",
      "115/115 [==============================] - 0s 997us/step - loss: 0.6350\n",
      "Epoch 40/100\n",
      "115/115 [==============================] - 0s 971us/step - loss: 0.6194\n",
      "Epoch 41/100\n",
      "115/115 [==============================] - 0s 949us/step - loss: 0.6036\n",
      "Epoch 42/100\n",
      "115/115 [==============================] - 0s 989us/step - loss: 0.5914\n",
      "Epoch 43/100\n",
      "115/115 [==============================] - 0s 1ms/step - loss: 0.5791\n",
      "Epoch 44/100\n",
      "115/115 [==============================] - 0s 1ms/step - loss: 0.5662\n",
      "Epoch 45/100\n",
      "115/115 [==============================] - 0s 1ms/step - loss: 0.5547\n",
      "Epoch 46/100\n",
      "115/115 [==============================] - 0s 1ms/step - loss: 0.5437\n",
      "Epoch 47/100\n",
      "115/115 [==============================] - 0s 1ms/step - loss: 0.5326\n",
      "Epoch 48/100\n",
      "115/115 [==============================] - 0s 1ms/step - loss: 0.5225\n",
      "Epoch 49/100\n",
      "115/115 [==============================] - 0s 1ms/step - loss: 0.5146\n",
      "Epoch 50/100\n",
      "115/115 [==============================] - 0s 1ms/step - loss: 0.5026\n",
      "Epoch 51/100\n",
      "115/115 [==============================] - 0s 1ms/step - loss: 0.4939\n",
      "Epoch 52/100\n",
      "115/115 [==============================] - 0s 1ms/step - loss: 0.4875\n",
      "Epoch 53/100\n",
      "115/115 [==============================] - 0s 1ms/step - loss: 0.4779\n",
      "Epoch 54/100\n",
      "115/115 [==============================] - 0s 1ms/step - loss: 0.4696\n",
      "Epoch 55/100\n",
      "115/115 [==============================] - 0s 1ms/step - loss: 0.4623\n",
      "Epoch 56/100\n",
      "115/115 [==============================] - 0s 1ms/step - loss: 0.4572\n",
      "Epoch 57/100\n",
      "115/115 [==============================] - 0s 1ms/step - loss: 0.4500\n",
      "Epoch 58/100\n",
      "115/115 [==============================] - 0s 997us/step - loss: 0.4447\n",
      "Epoch 59/100\n",
      "115/115 [==============================] - 0s 1ms/step - loss: 0.4375\n",
      "Epoch 60/100\n",
      "115/115 [==============================] - 0s 989us/step - loss: 0.4316\n",
      "Epoch 61/100\n",
      "115/115 [==============================] - 0s 1ms/step - loss: 0.4271\n",
      "Epoch 62/100\n",
      "115/115 [==============================] - 0s 1ms/step - loss: 0.4208\n",
      "Epoch 63/100\n",
      "115/115 [==============================] - 0s 1ms/step - loss: 0.4159\n",
      "Epoch 64/100\n",
      "115/115 [==============================] - 0s 1ms/step - loss: 0.4119\n",
      "Epoch 65/100\n",
      "115/115 [==============================] - 0s 1ms/step - loss: 0.4045\n",
      "Epoch 66/100\n",
      "115/115 [==============================] - 0s 980us/step - loss: 0.4022\n",
      "Epoch 67/100\n",
      "115/115 [==============================] - 0s 980us/step - loss: 0.3972\n",
      "Epoch 68/100\n",
      "115/115 [==============================] - 0s 1ms/step - loss: 0.3935\n",
      "Epoch 69/100\n",
      "115/115 [==============================] - 0s 1ms/step - loss: 0.3905\n",
      "Epoch 70/100\n",
      "115/115 [==============================] - 0s 1ms/step - loss: 0.3854\n",
      "Epoch 71/100\n",
      "115/115 [==============================] - 0s 1ms/step - loss: 0.3821\n",
      "Epoch 72/100\n",
      "115/115 [==============================] - 0s 1ms/step - loss: 0.3787\n",
      "Epoch 73/100\n",
      "115/115 [==============================] - 0s 1ms/step - loss: 0.3741\n",
      "Epoch 74/100\n",
      "115/115 [==============================] - 0s 1ms/step - loss: 0.3713\n",
      "Epoch 75/100\n",
      "115/115 [==============================] - 0s 1ms/step - loss: 0.3689\n",
      "Epoch 76/100\n",
      "115/115 [==============================] - 0s 1ms/step - loss: 0.3660\n",
      "Epoch 77/100\n",
      "115/115 [==============================] - 0s 1ms/step - loss: 0.3624\n",
      "Epoch 78/100\n",
      "115/115 [==============================] - 0s 1ms/step - loss: 0.3609\n",
      "Epoch 79/100\n",
      "115/115 [==============================] - 0s 1ms/step - loss: 0.3576\n",
      "Epoch 80/100\n",
      "115/115 [==============================] - 0s 1ms/step - loss: 0.3545\n",
      "Epoch 81/100\n",
      "115/115 [==============================] - 0s 1ms/step - loss: 0.3508\n",
      "Epoch 82/100\n",
      "115/115 [==============================] - 0s 1ms/step - loss: 0.3481\n",
      "Epoch 83/100\n",
      "115/115 [==============================] - 0s 1ms/step - loss: 0.3437\n",
      "Epoch 84/100\n",
      "115/115 [==============================] - 0s 1ms/step - loss: 0.3438\n",
      "Epoch 85/100\n",
      "115/115 [==============================] - 0s 1ms/step - loss: 0.3401\n",
      "Epoch 86/100\n",
      "115/115 [==============================] - 0s 1ms/step - loss: 0.3381\n",
      "Epoch 87/100\n",
      "115/115 [==============================] - 0s 1ms/step - loss: 0.3359\n",
      "Epoch 88/100\n",
      "115/115 [==============================] - 0s 1ms/step - loss: 0.3343\n",
      "Epoch 89/100\n",
      "115/115 [==============================] - 0s 1ms/step - loss: 0.3308\n",
      "Epoch 90/100\n",
      "115/115 [==============================] - 0s 940us/step - loss: 0.3301\n",
      "Epoch 91/100\n",
      "115/115 [==============================] - 0s 989us/step - loss: 0.3281\n",
      "Epoch 92/100\n",
      "115/115 [==============================] - 0s 980us/step - loss: 0.3268\n",
      "Epoch 93/100\n",
      "115/115 [==============================] - 0s 1ms/step - loss: 0.3235\n",
      "Epoch 94/100\n",
      "115/115 [==============================] - 0s 989us/step - loss: 0.3213\n",
      "Epoch 95/100\n",
      "115/115 [==============================] - 0s 1ms/step - loss: 0.3176\n",
      "Epoch 96/100\n",
      "115/115 [==============================] - 0s 1ms/step - loss: 0.3196\n",
      "Epoch 97/100\n",
      "115/115 [==============================] - 0s 1ms/step - loss: 0.3167\n",
      "Epoch 98/100\n",
      "115/115 [==============================] - 0s 1ms/step - loss: 0.3144\n",
      "Epoch 99/100\n",
      "115/115 [==============================] - 0s 962us/step - loss: 0.3127\n",
      "Epoch 100/100\n",
      "115/115 [==============================] - 0s 989us/step - loss: 0.3101\n",
      "29/29 [==============================] - 0s 998us/step\n",
      "8/8 [==============================] - 0s 1ms/step\n"
     ]
    }
   ],
   "source": [
    "# load Right Wing data\n",
    "url = 'https://raw.githubusercontent.com/ravsssh/HandballPrediction/main/Handball%20Prediction/data/RW.csv'\n",
    "df = pd.read_csv(url, delimiter=';')\n",
    "# Menentukan input and output\n",
    "X = df.drop(columns=[\"GOAL\"])\n",
    "y = df.GOAL\n",
    "# Membagi data set 80 : 20 train dan test\n",
    "X_train, X_test, y_train, y_test = train_test_split(X, y, test_size=0.2, random_state=42)\n",
    "# Normalisasi nilai \n",
    "scaler = MinMaxScaler()\n",
    "X_train = scaler.fit_transform(X_train)\n",
    "X_test = scaler.transform(X_test)\n",
    "# Merancang Neural Network Model\n",
    "model = Sequential()\n",
    "model.add(Flatten(input_shape=(12,)))  \n",
    "model.add(RBFLayer(12, 0.6))\n",
    "model.add(Dense(1, activation='linear'))  \n",
    "model.compile(optimizer='RMSprop', loss=mean_squared_error)  \n",
    "# Melatih arsitektur model terhadap dataset\n",
    "model.fit(X_train, y_train, batch_size=8, epochs=100)\n",
    "# Melakukan prediksi nilai\n",
    "pred_train = model.predict(X_train)\n",
    "pred_test = model.predict(X_test)"
   ]
  },
  {
   "cell_type": "code",
   "execution_count": 8,
   "id": "ee6c25fd-acbd-48ce-8325-6aaaf6cb9cd7",
   "metadata": {
    "tags": []
   },
   "outputs": [
    {
     "data": {
      "image/png": "[encoded data removed]",
      "text/plain": [
       "<Figure size 1100x500 with 2 Axes>"
      ]
     },
     "metadata": {},
     "output_type": "display_data"
    }
   ],
   "source": [
    "    # evaluation\n",
    "    plt.figure(figsize=(11, 5))\n",
    "\n",
    "    plt.subplot(121)\n",
    "    plt.scatter(pred_train, y_train, c='r', s=10)\n",
    "    x1, x2 = plt.xlim()\n",
    "    y1, y2 = plt.ylim()\n",
    "    lim = min(x1, y1), min(x2, y2)\n",
    "    plt.xlim(*lim)\n",
    "    plt.ylim(*lim)\n",
    "    plt.plot(lim, lim, 'k--', zorder=-1)\n",
    "    plt.xlabel(\"Prediction\", fontsize=14)\n",
    "    plt.ylabel(\"Actual\", fontsize=14)\n",
    "    plt.title(f\"R2_train: {r2_score(y_train, pred_train):.3f}\", fontsize=14)\n",
    "    \n",
    "\n",
    "    plt.subplot(122)\n",
    "    plt.scatter(pred_test, y_test, c='r', s=10)\n",
    "    x1, x2 = plt.xlim()\n",
    "    y1, y2 = plt.ylim()\n",
    "    lim = min(x1, y1), min(x2, y2)\n",
    "    plt.xlim(*lim)\n",
    "    plt.ylim(*lim)\n",
    "    plt.plot(lim, lim, 'k--', zorder=-1)\n",
    "    plt.xlabel(\"Prediction\", fontsize=14)\n",
    "    plt.ylabel(\"Actual\", fontsize=14)\n",
    "    plt.title(f\"R2_test: {r2_score(y_test, pred_test):.3f}\", fontsize=14)\n",
    "    \n",
    "    plt.show()\n"
   ]
  },
  {
   "cell_type": "code",
   "execution_count": 5,
   "id": "08c72a2c-bbf6-4cea-9b1a-5e2a716a784e",
   "metadata": {
    "tags": []
   },
   "outputs": [
    {
     "name": "stdout",
     "output_type": "stream",
     "text": [
      "MSE (Train): 0.5070242089939796\n",
      "MAE (Train): 0.21549302339553833\n",
      "MSE (Test): 0.4908853013539085\n",
      "MAE (Test): 0.207179456949234\n"
     ]
    }
   ],
   "source": [
    "from sklearn.metrics import r2_score, mean_squared_error, median_absolute_error\n",
    "import matplotlib.pyplot as plt\n",
    "mse_train = mean_squared_error(y_train, pred_train)\n",
    "mae_train = median_absolute_error(y_train, pred_train)\n",
    "mse_test = mean_squared_error(y_test, pred_test)\n",
    "mae_test = median_absolute_error(y_test, pred_test)\n",
    "print(\"MSE (Train):\", mse_train)\n",
    "print(\"MAE (Train):\", mae_train)\n",
    "print(\"MSE (Test):\", mse_test)\n",
    "print(\"MAE (Test):\", mae_test)"
   ]
  },
  {
   "cell_type": "code",
   "execution_count": 80,
   "id": "468aa6cc-ddab-4025-9acb-71e6026538e8",
   "metadata": {},
   "outputs": [
    {
     "name": "stdout",
     "output_type": "stream",
     "text": [
      "1/1 [==============================] - 0s 26ms/step\n",
      "[[7.120514]]\n"
     ]
    },
    {
     "name": "stderr",
     "output_type": "stream",
     "text": [
      "F:\\Anaconda\\lib\\site-packages\\sklearn\\base.py:420: UserWarning: X does not have valid feature names, but MinMaxScaler was fitted with feature names\n",
      "  warnings.warn(\n"
     ]
    }
   ],
   "source": [
    "import numpy as np\n",
    "new_data = np.array([[0,0,8,0.75,1,1,0,0,0,0,0,0]])  # Replace value1, value2, ..., value12 with actual values\n",
    "new_data_normalized = scaler.transform(new_data)\n",
    "predictions = model.predict(new_data_normalized)\n",
    "print(predictions)"
   ]
  },
  {
   "cell_type": "code",
   "execution_count": 73,
   "id": "a85f908c-f175-4c3f-bf50-74e148ea5344",
   "metadata": {},
   "outputs": [
    {
     "name": "stdout",
     "output_type": "stream",
     "text": [
      "Model: \"sequential_21\"\n",
      "_________________________________________________________________\n",
      " Layer (type)                Output Shape              Param #   \n",
      "=================================================================\n",
      " flatten_21 (Flatten)        (None, 12)                0         \n",
      "                                                                 \n",
      " rbf_layer_22 (RBFLayer)     (None, 12)                144       \n",
      "                                                                 \n",
      " dense_21 (Dense)            (None, 1)                 13        \n",
      "                                                                 \n",
      "=================================================================\n",
      "Total params: 157 (628.00 Byte)\n",
      "Trainable params: 157 (628.00 Byte)\n",
      "Non-trainable params: 0 (0.00 Byte)\n",
      "_________________________________________________________________\n"
     ]
    }
   ],
   "source": [
    "model.summary()"
   ]
  },
  {
   "cell_type": "code",
   "execution_count": 52,
   "id": "3ae4c04f-0e8e-4202-9c92-3948ee48916a",
   "metadata": {},
   "outputs": [
    {
     "data": {
      "text/plain": [
       "array([[ 0.444291  ],\n",
       "       [ 0.38751185],\n",
       "       [-0.0508399 ],\n",
       "       [ 0.23979759],\n",
       "       [ 0.28218222],\n",
       "       [-0.34551787],\n",
       "       [-0.02873683],\n",
       "       [ 0.1570617 ],\n",
       "       [-0.22726166],\n",
       "       [ 0.29480058],\n",
       "       [-0.3211242 ],\n",
       "       [ 0.46500623]], dtype=float32)"
      ]
     },
     "execution_count": 52,
     "metadata": {},
     "output_type": "execute_result"
    }
   ],
   "source": [
    "model.get_weights()[1]"
   ]
  },
  {
   "cell_type": "code",
   "execution_count": 54,
   "id": "042dc4ec-77c0-4158-a9f5-2161d2f46b8b",
   "metadata": {},
   "outputs": [
    {
     "data": {
      "text/plain": [
       "array([[ 2.7629614 ],\n",
       "       [-0.722268  ],\n",
       "       [ 4.402099  ],\n",
       "       [ 1.6757318 ],\n",
       "       [ 2.3954132 ],\n",
       "       [ 2.012411  ],\n",
       "       [ 0.6882627 ],\n",
       "       [ 0.06722295],\n",
       "       [-0.32214403],\n",
       "       [-0.5192934 ],\n",
       "       [ 1.4185182 ],\n",
       "       [-0.51704246]], dtype=float32)"
      ]
     },
     "execution_count": 54,
     "metadata": {},
     "output_type": "execute_result"
    }
   ],
   "source": [
    "model.get_weights()[1]"
   ]
  },
  {
   "cell_type": "code",
   "execution_count": 47,
   "id": "830a44b5",
   "metadata": {},
   "outputs": [
    {
     "name": "stderr",
     "output_type": "stream",
     "text": [
      "C:\\Users\\Wandi\\AppData\\Roaming\\Python\\Python310\\site-packages\\keras\\src\\engine\\training.py:3000: UserWarning: You are saving your model as an HDF5 file via `model.save()`. This file format is considered legacy. We recommend using instead the native Keras format, e.g. `model.save('my_model.keras')`.\n",
      "  saving_api.save_model(\n"
     ]
    }
   ],
   "source": [
    "model.save('Model_Centerback.h5')"
   ]
  },
  {
   "cell_type": "code",
   "execution_count": null,
   "id": "5e53650d-a9d2-4f80-a2c8-efd42566c1f8",
   "metadata": {},
   "outputs": [],
   "source": []
  }
 ],
 "metadata": {
  "kernelspec": {
   "display_name": "Python 3 (ipykernel)",
   "language": "python",
   "name": "python3"
  },
  "language_info": {
   "codemirror_mode": {
    "name": "ipython",
    "version": 3
   },
   "file_extension": ".py",
   "mimetype": "text/x-python",
   "name": "python",
   "nbconvert_exporter": "python",
   "pygments_lexer": "ipython3",
   "version": "3.10.9"
  }
 },
 "nbformat": 4,
 "nbformat_minor": 5
}
