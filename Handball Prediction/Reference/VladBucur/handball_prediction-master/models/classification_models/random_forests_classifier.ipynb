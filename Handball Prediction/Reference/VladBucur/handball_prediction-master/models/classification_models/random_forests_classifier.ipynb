{
 "cells": [
  {
   "cell_type": "code",
   "execution_count": null,
   "metadata": {},
   "outputs": [],
   "source": [
    "import keras\n",
    "import matplotlib.pyplot as plt\n",
    "import numpy as np\n",
    "import pandas as pd\n",
    "import pickle\n",
    "import warnings\n",
    "\n",
    "warnings.filterwarnings('ignore')\n",
    "\n",
    "from sklearn.ensemble import RandomForestClassifier\n",
    "from sklearn.metrics import r2_score\n",
    "from sklearn.model_selection import cross_val_score\n",
    "from sklearn.model_selection import train_test_split\n",
    "from tqdm import tqdm_notebook as tqdm"
   ]
  },
  {
   "cell_type": "code",
   "execution_count": null,
   "metadata": {},
   "outputs": [],
   "source": [
    "# read final processed data\n",
    "df = pd.read_csv('../../inputs/final_processed_data.csv')\n",
    "df.head()"
   ]
  },
  {
   "cell_type": "code",
   "execution_count": null,
   "metadata": {},
   "outputs": [],
   "source": [
    "# Method to split final processed data in training / testing\n",
    "def split_data_in_training_testing(df):\n",
    "\n",
    "    data = df.sort_values(by=['goals_per_match_year3'])\n",
    "\n",
    "    data = data.drop('name', 1)\n",
    "\n",
    "    y = data[['goals_per_match_year3']].values.astype('float32')\n",
    "\n",
    "    data = data.drop('goals_per_match_year3', 1)\n",
    "    x = data.values.astype('float32')\n",
    "\n",
    "    x_train, x_test, y_train, y_test = train_test_split(x, y, test_size=0.10)\n",
    "    \n",
    "    return x_train, x_test, y_train, y_test"
   ]
  },
  {
   "cell_type": "code",
   "execution_count": null,
   "metadata": {},
   "outputs": [],
   "source": [
    "# Method to compute best model using k-fold validation\n",
    "def compute_optimal_hyperparameters(x_train, y_train):\n",
    "    \n",
    "    max_depth_list = [None, 50, 100, 200, 500]\n",
    "    max_leaf_nodes_list = [None, 50, 100, 200, 500]\n",
    "    max_features_list = [None, 3, 4, 5, 6, 7]\n",
    "    bootstrap_list = [False, True]\n",
    "    \n",
    "    best_score = -1000\n",
    "    \n",
    "    for max_depth in max_depth_list:\n",
    "        for max_leaf_nodes in max_leaf_nodes_list:\n",
    "            for max_features in max_features_list:\n",
    "                for bootstrap in bootstrap_list:\n",
    "\n",
    "                    current_model = RandomForestClassifier(max_depth=max_depth, max_leaf_nodes=max_leaf_nodes, \n",
    "                                                          max_features=max_features, bootstrap=bootstrap)\n",
    "                    current_score = cross_val_score(current_model, x_train, y_train, cv=5).mean()\n",
    "\n",
    "                    if current_score > best_score:\n",
    "                        best_score = current_score\n",
    "                        best_model = current_model\n",
    "    \n",
    "    return best_score, best_model"
   ]
  },
  {
   "cell_type": "code",
   "execution_count": null,
   "metadata": {},
   "outputs": [],
   "source": [
    "# Method to plot model accuracy on test data\n",
    "def plot_model_accuracy_on_test_data(model, x_test, y_test):\n",
    "    \n",
    "    y_pred = model.predict(x_test)\n",
    "\n",
    "    plt.plot(y_pred, label='prediction')\n",
    "    plt.plot(y_test, label='true',alpha =0.3)\n",
    "    plt.legend()\n",
    "    plt.show() \n",
    "\n",
    "    fig, ax = plt.subplots()\n",
    "    plt.title('Actual value vs predicted value (goals per match year 3)')\n",
    "    ax.scatter(y_test, y_pred, edgecolors=(0, 0, 0),alpha =0.3)\n",
    "    ax.plot([min(y_test), max(y_test)], [min(y_test), max(y_test)], 'k--', lw=4)\n",
    "    ax.set_xlabel('Actual')\n",
    "    ax.set_ylabel('Predicted')\n",
    "    plt.show()"
   ]
  },
  {
   "cell_type": "code",
   "execution_count": null,
   "metadata": {},
   "outputs": [],
   "source": [
    "# Method to compute best data split\n",
    "def compute_best_data_split(df, iterations):\n",
    "    \n",
    "    best_test_score = -1\n",
    "    \n",
    "    for i in tqdm(range(0, iterations)):\n",
    "\n",
    "        x_train, x_test, y_train, y_test = split_data_in_training_testing(df)\n",
    "\n",
    "        validation_score, model = compute_optimal_hyperparameters(x_train, y_train)\n",
    "\n",
    "        model.fit(x_train,y_train)\n",
    "\n",
    "        test_score = model.score(x_test, y_test)\n",
    "        \n",
    "        if abs(validation_score - test_score) < 0.05 and test_score > best_test_score:\n",
    "            \n",
    "            best_model = model\n",
    "            best_validation_score = validation_score\n",
    "            best_test_score = test_score\n",
    "            \n",
    "    plot_model_accuracy_on_test_data(best_model, x_test, y_test)\n",
    "\n",
    "    return best_model, best_validation_score, best_test_score"
   ]
  },
  {
   "cell_type": "code",
   "execution_count": null,
   "metadata": {},
   "outputs": [],
   "source": [
    "df['goals_per_match_year3'] = df.apply(lambda row: int(round(row['goals_per_match_year3'])), axis=1)\n",
    "\n",
    "model, validation_score, test_score = compute_best_data_split(df, 10)\n",
    "\n",
    "print(\"Validation score:\", validation_score)\n",
    "print(\"Test score:\", test_score)\n",
    "print(model)"
   ]
  },
  {
   "cell_type": "code",
   "execution_count": null,
   "metadata": {},
   "outputs": [],
   "source": [
    "# save model to file\n",
    "pkl_filename = \"random_forests_classifier_model.pkl\"\n",
    "with open(pkl_filename, 'wb') as file:\n",
    "    pickle.dump(model, file)"
   ]
  },
  {
   "cell_type": "code",
   "execution_count": null,
   "metadata": {},
   "outputs": [],
   "source": [
    "# separate dataset into particular player attributes\n",
    "centre_df = df[df['center'] == 1]\n",
    "back_df = df[df['back'] == 1]\n",
    "wing_df = df[df['wing'] == 1]\n",
    "line_df = df[df['line'] == 1]\n",
    "\n",
    "short_players = df[df['height'] < df['height'].quantile(.25)]\n",
    "tall_players = df[df['height'] > df['height'].quantile(.75)]\n",
    "\n",
    "rarely_playing = df[df['matches_year2'] < df['matches_year2'].quantile(.25)]\n",
    "often_playing = df[df['matches_year2'] > df['matches_year2'].quantile(.75)]\n",
    "\n",
    "low_scoring = df[df['goals_year2'] < df['goals_year2'].quantile(.25)]\n",
    "high_scoring = df[df['goals_year2'] > df['goals_year2'].quantile(.75)]"
   ]
  },
  {
   "cell_type": "code",
   "execution_count": null,
   "metadata": {},
   "outputs": [],
   "source": [
    "centre_x = centre_df[['center','back','wing','line','height','matches_year1','goals_year1','goals_per_match_year1',\n",
    "               'matches_year2','goals_year2','goals_per_match_year2']].values.astype('float32')\n",
    "centre_y = centre_df[['goals_per_match_year3']].values.astype('float32')\n",
    "\n",
    "back_x = back_df[['center','back','wing','line','height','matches_year1','goals_year1','goals_per_match_year1',\n",
    "               'matches_year2','goals_year2','goals_per_match_year2']].values.astype('float32')\n",
    "back_y = back_df[['goals_per_match_year3']].values.astype('float32')\n",
    "\n",
    "wing_x = wing_df[['center','back','wing','line','height','matches_year1','goals_year1','goals_per_match_year1',\n",
    "               'matches_year2','goals_year2','goals_per_match_year2']].values.astype('float32')\n",
    "wing_y = wing_df[['goals_per_match_year3']].values.astype('float32')\n",
    "\n",
    "line_x = line_df[['center','back','wing','line','height','matches_year1','goals_year1','goals_per_match_year1',\n",
    "               'matches_year2','goals_year2','goals_per_match_year2']].values.astype('float32')\n",
    "line_y = line_df[['goals_per_match_year3']].values.astype('float32')\n",
    "\n",
    "short_players_x = short_players[['center','back','wing','line','height','matches_year1','goals_year1',\n",
    "        'goals_per_match_year1','matches_year2','goals_year2','goals_per_match_year2']].values.astype('float32')\n",
    "short_players_y = short_players[['goals_per_match_year3']].values.astype('float32')\n",
    "\n",
    "tall_players_x = tall_players[['center','back','wing','line','height','matches_year1','goals_year1',\n",
    "        'goals_per_match_year1','matches_year2','goals_year2','goals_per_match_year2']].values.astype('float32')\n",
    "tall_players_y = tall_players[['goals_per_match_year3']].values.astype('float32')\n",
    "\n",
    "rarely_playing_x = rarely_playing[['center','back','wing','line','height','matches_year1','goals_year1',\n",
    "        'goals_per_match_year1','matches_year2','goals_year2','goals_per_match_year2']].values.astype('float32')\n",
    "rarely_playing_y = rarely_playing[['goals_per_match_year3']].values.astype('float32')\n",
    "\n",
    "often_playing_x = often_playing[['center','back','wing','line','height','matches_year1','goals_year1',\n",
    "        'goals_per_match_year1','matches_year2','goals_year2','goals_per_match_year2']].values.astype('float32')\n",
    "often_playing_y = often_playing[['goals_per_match_year3']].values.astype('float32')\n",
    "\n",
    "low_scoring_x = low_scoring[['center','back','wing','line','height','matches_year1','goals_year1',\n",
    "        'goals_per_match_year1','matches_year2','goals_year2','goals_per_match_year2']].values.astype('float32')\n",
    "low_scoring_y = low_scoring[['goals_per_match_year3']].values.astype('float32')\n",
    "\n",
    "high_scoring_x = high_scoring[['center','back','wing','line','height','matches_year1','goals_year1',\n",
    "        'goals_per_match_year1','matches_year2','goals_year2','goals_per_match_year2']].values.astype('float32')\n",
    "high_scoring_y = high_scoring[['goals_per_match_year3']].values.astype('float32')"
   ]
  },
  {
   "cell_type": "code",
   "execution_count": null,
   "metadata": {},
   "outputs": [],
   "source": [
    "model.score(centre_x, centre_y)"
   ]
  },
  {
   "cell_type": "code",
   "execution_count": null,
   "metadata": {},
   "outputs": [],
   "source": [
    "model.score(back_x, back_y)"
   ]
  },
  {
   "cell_type": "code",
   "execution_count": null,
   "metadata": {},
   "outputs": [],
   "source": [
    "model.score(wing_x, wing_y)"
   ]
  },
  {
   "cell_type": "code",
   "execution_count": null,
   "metadata": {},
   "outputs": [],
   "source": [
    "model.score(line_x, line_y)"
   ]
  },
  {
   "cell_type": "code",
   "execution_count": null,
   "metadata": {},
   "outputs": [],
   "source": [
    "model.score(short_players_x, short_players_y)"
   ]
  },
  {
   "cell_type": "code",
   "execution_count": null,
   "metadata": {},
   "outputs": [],
   "source": [
    "model.score(tall_players_x, tall_players_y)"
   ]
  },
  {
   "cell_type": "code",
   "execution_count": null,
   "metadata": {},
   "outputs": [],
   "source": [
    "model.score(rarely_playing_x, rarely_playing_y)"
   ]
  },
  {
   "cell_type": "code",
   "execution_count": null,
   "metadata": {},
   "outputs": [],
   "source": [
    "model.score(often_playing_x, often_playing_y)"
   ]
  },
  {
   "cell_type": "code",
   "execution_count": null,
   "metadata": {},
   "outputs": [],
   "source": [
    "model.score(low_scoring_x, low_scoring_y)"
   ]
  },
  {
   "cell_type": "code",
   "execution_count": null,
   "metadata": {},
   "outputs": [],
   "source": [
    "model.score(high_scoring_x, high_scoring_y)"
   ]
  }
 ],
 "metadata": {
  "kernelspec": {
   "display_name": "Python 3",
   "language": "python",
   "name": "python3"
  },
  "language_info": {
   "codemirror_mode": {
    "name": "ipython",
    "version": 3
   },
   "file_extension": ".py",
   "mimetype": "text/x-python",
   "name": "python",
   "nbconvert_exporter": "python",
   "pygments_lexer": "ipython3",
   "version": "3.6.8"
  }
 },
 "nbformat": 4,
 "nbformat_minor": 2
}
