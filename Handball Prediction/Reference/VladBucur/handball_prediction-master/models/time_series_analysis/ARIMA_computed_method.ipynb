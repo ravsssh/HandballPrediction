{
 "cells": [
  {
   "cell_type": "code",
   "execution_count": null,
   "metadata": {},
   "outputs": [],
   "source": [
    "import matplotlib.pyplot as plt\n",
    "import pandas as pd\n",
    "import warnings\n",
    "\n",
    "warnings.filterwarnings(\"ignore\")\n",
    "\n",
    "from sklearn.metrics import r2_score\n",
    "from statsmodels.tsa.arima_model import ARIMA\n",
    "from tqdm import tqdm_notebook as tqdm"
   ]
  },
  {
   "cell_type": "code",
   "execution_count": null,
   "metadata": {},
   "outputs": [],
   "source": [
    "raw_df = pd.read_csv('../../inputs/raw_data.csv')\n",
    "\n",
    "raw_df.drop('position', axis=1, inplace=True)\n",
    "raw_df.drop('height', axis=1, inplace=True)\n",
    "\n",
    "df = pd.read_csv('../../inputs/final_processed_data.csv')\n",
    "\n",
    "df = df.merge(raw_df, how='inner', on=['name','matches_year1','goals_year1','matches_year2','goals_year2'])\n",
    "df['prediction_season'] = df.apply(lambda row: int(row['prediction_season'].split('/')[1]), axis=1)\n",
    "\n",
    "df.head()"
   ]
  },
  {
   "cell_type": "code",
   "execution_count": null,
   "metadata": {},
   "outputs": [],
   "source": [
    "time_series_df = pd.DataFrame(columns=['name','matches_year1','goals_year1','matches_year2','goals_year2',\n",
    "                                       'matches_year3','goals_year3','matches_year4','goals_year4',\n",
    "                                       'goals_per_match_year5','prediction_season'])\n",
    "\n",
    "for player in tqdm(list(df['name'].unique())):\n",
    "    for season in [2015, 2016, 2017, 2018]:\n",
    "        \n",
    "        if len(df[(df['name'] == player) & (df['prediction_season'] == season)]) > 0 and \\\n",
    "           len(df[(df['name'] == player) & (df['prediction_season'] == season - 1)]) > 0 and \\\n",
    "           len(df[(df['name'] == player) & (df['prediction_season'] == season - 2)]) > 0:\n",
    "            \n",
    "            name = player\n",
    "            \n",
    "            matches_year1 = df['matches_year1'][(df['name']==player)&(df['prediction_season']==season-2)].values[0]\n",
    "            matches_year2 = df['matches_year2'][(df['name']==player)&(df['prediction_season']==season-2)].values[0]\n",
    "            matches_year3 = df['matches_year2'][(df['name']==player)&(df['prediction_season']==season-1)].values[0]\n",
    "            matches_year4 = df['matches_year2'][(df['name']==player)&(df['prediction_season']==season)].values[0]\n",
    "            \n",
    "            goals_year1 = df['goals_year1'][(df['name'] == player) & (df['prediction_season']==season-2)].values[0]\n",
    "            goals_year2 = df['goals_year2'][(df['name'] == player) & (df['prediction_season']==season-2)].values[0]\n",
    "            goals_year3 = df['goals_year2'][(df['name'] == player) & (df['prediction_season']==season-1)].values[0]\n",
    "            goals_year4 = df['goals_year2'][(df['name'] == player) & (df['prediction_season']==season)].values[0]\n",
    "            \n",
    "            goals_per_match_year5 = df['goals_per_match_year3'][(df['name'] == player) & \\\n",
    "                                                                (df['prediction_season'] == season)].values[0]\n",
    "            \n",
    "            prediction_season = season\n",
    "            \n",
    "            time_series_df = time_series_df.append({'name':name, \n",
    "                    'matches_year1':matches_year1, 'matches_year2':matches_year2, 'matches_year3':matches_year3,\n",
    "                    'matches_year4':matches_year4, 'goals_year1':goals_year1, 'goals_year2':goals_year2, \n",
    "                    'goals_year3':goals_year3, 'goals_year4':goals_year4,\n",
    "                    'goals_per_match_year5':goals_per_match_year5, 'prediction_season':prediction_season}, \n",
    "                    ignore_index=True)\n",
    "\n",
    "print(\"Initial # of rows:\", len(df))\n",
    "print(\"# of rows after coverting to 4 seasons of past data:\", len(time_series_df))\n",
    "\n",
    "time_series_df.head()"
   ]
  },
  {
   "cell_type": "code",
   "execution_count": null,
   "metadata": {},
   "outputs": [],
   "source": [
    "def compute_ARIMA(row, year1, year2, year3, year4, p_value, d_value, q_value):\n",
    "    return ARIMA([float(row[year1]), float(row[year2]), float(row[year3]), float(row[year4])], \n",
    "                 order=(p_value, d_value, q_value)).fit(disp=0).forecast()[0][0]\n",
    "\n",
    "def compute_optimal_hyperparameters(time_series_df):\n",
    "    \n",
    "    warnings.filterwarnings(\"ignore\")\n",
    "    \n",
    "    p_list = [0,0,0,0,0,0,1,1]\n",
    "    d_list = [0,0,0,1,1,2,0,1]\n",
    "    q_list = [0,1,2,0,1,0,0,0]\n",
    "    \n",
    "    best_score = -1\n",
    "\n",
    "    for index in tqdm(range(0, len(p_list))):\n",
    "        \n",
    "        df = time_series_df.copy()\n",
    "        \n",
    "        p_value = p_list[index]\n",
    "        d_value = d_list[index]\n",
    "        q_value = q_list[index]\n",
    "        \n",
    "        try:\n",
    "        \n",
    "            df['matches_year5'] = df.apply(lambda row: compute_ARIMA(row,'matches_year1', 'matches_year2', \n",
    "                                           'matches_year3', 'matches_year4', p_value, d_value, q_value), axis=1)\n",
    "            \n",
    "            df['goals_year5'] = df.apply(lambda row: compute_ARIMA(row,'goals_year1', 'goals_year2', \n",
    "                                         'goals_year3', 'goals_year4', p_value, d_value, q_value), axis=1)\n",
    "            \n",
    "            df['predicted_goals_per_match_year5'] = df['goals_year5'] / df['matches_year5']\n",
    "\n",
    "            score = r2_score(df['goals_per_match_year5'].values, df['predicted_goals_per_match_year5'].values)\n",
    "            \n",
    "            if score > best_score:\n",
    "\n",
    "                best_score = score\n",
    "                best_p_value = p_value\n",
    "                best_d_value = d_value\n",
    "                best_q_value = q_value\n",
    "        \n",
    "        except:\n",
    "            print('Parameters (%d, %d, %d) triggered an exception' % (p_value, d_value, q_value))\n",
    "            \n",
    "    return best_p_value, best_d_value, best_q_value"
   ]
  },
  {
   "cell_type": "code",
   "execution_count": null,
   "metadata": {},
   "outputs": [],
   "source": [
    "# Method to plot model accuracy on test data\n",
    "def plot_model_accuracy_on_test_data(y_pred, y_test):\n",
    "\n",
    "    plt.plot(y_pred, label='prediction')\n",
    "    plt.plot(y_test, label='true',alpha =0.3)\n",
    "    plt.legend()\n",
    "    plt.show() \n",
    "\n",
    "    fig, ax = plt.subplots()\n",
    "    plt.title('Actual value vs predicted value (goals per match year 5)')\n",
    "    ax.scatter(y_test, y_pred, edgecolors=(0, 0, 0),alpha =0.3)\n",
    "    ax.plot([min(y_test), max(y_test)], [min(y_test), max(y_test)], 'k--', lw=4)\n",
    "    ax.set_xlabel('Actual')\n",
    "    ax.set_ylabel('Predicted')\n",
    "    plt.show()"
   ]
  },
  {
   "cell_type": "code",
   "execution_count": null,
   "metadata": {},
   "outputs": [],
   "source": [
    "p_value, d_value, q_value = compute_optimal_hyperparameters(time_series_df)\n",
    "\n",
    "print('Optimal hyperparameters (%d, %d, %d)' % (p_value, d_value, q_value))\n",
    "\n",
    "df = time_series_df.copy()\n",
    "\n",
    "df['matches_year5'] = df.apply(lambda row: compute_ARIMA(row,'matches_year1', 'matches_year2', \n",
    "                                           'matches_year3', 'matches_year4', p_value, d_value, q_value), axis=1)\n",
    "            \n",
    "df['goals_year5'] = df.apply(lambda row: compute_ARIMA(row,'goals_year1', 'goals_year2', \n",
    "                             'goals_year3', 'goals_year4', p_value, d_value, q_value), axis=1)\n",
    "\n",
    "df['predicted_goals_per_match_year5'] = df['goals_year5'] / df['matches_year5']\n",
    "\n",
    "score = r2_score(df['goals_per_match_year5'].values, df['predicted_goals_per_match_year5'].values)\n",
    "\n",
    "print(\"r2_score:\", score)\n",
    "\n",
    "plot_model_accuracy_on_test_data(df['predicted_goals_per_match_year5'].values, df['goals_per_match_year5'].values)"
   ]
  },
  {
   "cell_type": "code",
   "execution_count": null,
   "metadata": {},
   "outputs": [],
   "source": [
    "processed_df = pd.read_csv('../../inputs/final_processed_data.csv')\n",
    "processed_df = processed_df.groupby('name').agg({'center':'first','back':'first','wing':'first','line':'first',\n",
    "                                                 'height':'first'}).reset_index()\n",
    "\n",
    "df = df.merge(processed_df, on='name', how='left')\n",
    "df.head()"
   ]
  },
  {
   "cell_type": "code",
   "execution_count": null,
   "metadata": {},
   "outputs": [],
   "source": [
    "# separate dataset into particular player attributes\n",
    "centre_df = df[df['center'] == 1]\n",
    "back_df = df[df['back'] == 1]\n",
    "wing_df = df[df['wing'] == 1]\n",
    "line_df = df[df['line'] == 1]\n",
    "\n",
    "short_players = df[df['height'] < df['height'].quantile(.25)]\n",
    "tall_players = df[df['height'] > df['height'].quantile(.75)]\n",
    "\n",
    "rarely_playing = df[df['matches_year4'] < df['matches_year4'].quantile(.25)]\n",
    "often_playing = df[df['matches_year4'] > df['matches_year4'].quantile(.75)]\n",
    "\n",
    "low_scoring = df[df['goals_year4'] < df['goals_year4'].quantile(.25)]\n",
    "high_scoring = df[df['goals_year4'] > df['goals_year4'].quantile(.75)]"
   ]
  },
  {
   "cell_type": "code",
   "execution_count": null,
   "metadata": {},
   "outputs": [],
   "source": [
    "r2_score(centre_df['goals_per_match_year5'].values, centre_df['predicted_goals_per_match_year5'].values)"
   ]
  },
  {
   "cell_type": "code",
   "execution_count": null,
   "metadata": {},
   "outputs": [],
   "source": [
    "r2_score(back_df['goals_per_match_year5'].values, back_df['predicted_goals_per_match_year5'].values)"
   ]
  },
  {
   "cell_type": "code",
   "execution_count": null,
   "metadata": {},
   "outputs": [],
   "source": [
    "r2_score(wing_df['goals_per_match_year5'].values, wing_df['predicted_goals_per_match_year5'].values)"
   ]
  },
  {
   "cell_type": "code",
   "execution_count": null,
   "metadata": {},
   "outputs": [],
   "source": [
    "r2_score(line_df['goals_per_match_year5'].values, line_df['predicted_goals_per_match_year5'].values)"
   ]
  },
  {
   "cell_type": "code",
   "execution_count": null,
   "metadata": {},
   "outputs": [],
   "source": [
    "r2_score(short_players['goals_per_match_year5'].values, short_players['predicted_goals_per_match_year5'].values)"
   ]
  },
  {
   "cell_type": "code",
   "execution_count": null,
   "metadata": {},
   "outputs": [],
   "source": [
    "r2_score(tall_players['goals_per_match_year5'].values, tall_players['predicted_goals_per_match_year5'].values)"
   ]
  },
  {
   "cell_type": "code",
   "execution_count": null,
   "metadata": {},
   "outputs": [],
   "source": [
    "r2_score(rarely_playing['goals_per_match_year5'].values, rarely_playing['predicted_goals_per_match_year5'].values)"
   ]
  },
  {
   "cell_type": "code",
   "execution_count": null,
   "metadata": {},
   "outputs": [],
   "source": [
    "r2_score(often_playing['goals_per_match_year5'].values, often_playing['predicted_goals_per_match_year5'].values)"
   ]
  },
  {
   "cell_type": "code",
   "execution_count": null,
   "metadata": {},
   "outputs": [],
   "source": [
    "r2_score(low_scoring['goals_per_match_year5'].values, low_scoring['predicted_goals_per_match_year5'].values)"
   ]
  },
  {
   "cell_type": "code",
   "execution_count": null,
   "metadata": {},
   "outputs": [],
   "source": [
    "r2_score(high_scoring['goals_per_match_year5'].values, high_scoring['predicted_goals_per_match_year5'].values)"
   ]
  }
 ],
 "metadata": {
  "kernelspec": {
   "display_name": "Python 3",
   "language": "python",
   "name": "python3"
  },
  "language_info": {
   "codemirror_mode": {
    "name": "ipython",
    "version": 3
   },
   "file_extension": ".py",
   "mimetype": "text/x-python",
   "name": "python",
   "nbconvert_exporter": "python",
   "pygments_lexer": "ipython3",
   "version": "3.6.8"
  }
 },
 "nbformat": 4,
 "nbformat_minor": 2
}
