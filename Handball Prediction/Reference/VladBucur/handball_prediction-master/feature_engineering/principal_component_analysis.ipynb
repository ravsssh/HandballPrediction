{
 "cells": [
  {
   "cell_type": "code",
   "execution_count": null,
   "metadata": {},
   "outputs": [],
   "source": [
    "import matplotlib.pyplot as plt\n",
    "import numpy as np\n",
    "import pandas as pd\n",
    "import seaborn as sns\n",
    "\n",
    "from sklearn.decomposition import PCA\n",
    "from sklearn.preprocessing import StandardScaler"
   ]
  },
  {
   "cell_type": "code",
   "execution_count": null,
   "metadata": {},
   "outputs": [],
   "source": [
    "# read final processed data\n",
    "df = pd.read_csv('../inputs/final_processed_data.csv')\n",
    "df.head()"
   ]
  },
  {
   "cell_type": "code",
   "execution_count": null,
   "metadata": {
    "scrolled": true
   },
   "outputs": [],
   "source": [
    "pca = PCA(n_components=1)\n",
    "df['attributes_PCA'] = pca.fit_transform(df[['center','back','wing','line','height']])\n",
    "df['past_performance_PCA'] = pca.fit_transform(df[['matches_year1','matches_year2','goals_year1','goals_year2',\n",
    "                                                   'goals_per_match_year1','goals_per_match_year2']])\n",
    "df"
   ]
  },
  {
   "cell_type": "code",
   "execution_count": null,
   "metadata": {},
   "outputs": [],
   "source": [
    "# correlation matrix - all players\n",
    "plt.figure()\n",
    "plt.title('Correlation matrix - all players')\n",
    "sns.heatmap(df[['attributes_PCA','past_performance_PCA','goals_per_match_year3']].corr(), annot=True)\n",
    "plt.show()"
   ]
  },
  {
   "cell_type": "code",
   "execution_count": null,
   "metadata": {},
   "outputs": [],
   "source": [
    "# cat plot of past performance PCA to goals per match - all players\n",
    "plt.figure()\n",
    "sns.catplot(x=\"attributes_PCA\", y=\"goals_per_match_year3\", data=df[[\"attributes_PCA\",\n",
    "                                                                          \"goals_per_match_year3\"]])\n",
    "plt.title('Catplot - attributes PCA to goals per match year 3')\n",
    "plt.xscale('log')\n",
    "plt.show()"
   ]
  },
  {
   "cell_type": "code",
   "execution_count": null,
   "metadata": {},
   "outputs": [],
   "source": [
    "# cat plot of past performance PCA to goals per match - all players\n",
    "plt.figure()\n",
    "sns.catplot(x=\"past_performance_PCA\", y=\"goals_per_match_year3\", data=df[[\"past_performance_PCA\",\n",
    "                                                                          \"goals_per_match_year3\"]])\n",
    "plt.title('Catplot - past performance PCA to goals per match year 3')\n",
    "plt.xscale('log')\n",
    "plt.show()"
   ]
  },
  {
   "cell_type": "code",
   "execution_count": null,
   "metadata": {},
   "outputs": [],
   "source": [
    "from mpl_toolkits.mplot3d import Axes3D\n",
    "\n",
    "fig = plt.figure(figsize=[7,5])\n",
    "\n",
    "ax = fig.add_subplot(111, projection='3d')\n",
    "ax.scatter(df['past_performance_PCA'].values, df['attributes_PCA'].values, df['goals_per_match_year3'].values)\n",
    "\n",
    "ax.set_xlabel('past_performance_PCA')\n",
    "ax.set_ylabel('attributes_PCA')\n",
    "ax.set_zlabel('goals_per_match_year3')\n",
    "\n",
    "plt.title('3D PCA plot - past performance & attributes vs target value')\n",
    "\n",
    "plt.show()"
   ]
  },
  {
   "cell_type": "code",
   "execution_count": null,
   "metadata": {},
   "outputs": [],
   "source": [
    "fig = plt.figure(figsize=[7,5])\n",
    "\n",
    "plt.title('3D PCA plot - att')\n",
    "\n",
    "ax = fig.add_subplot(111, projection='3d')\n",
    "ax.scatter(df['attributes_PCA'].values, df['past_performance_PCA'].values, df['goals_per_match_year3'].values)\n",
    "\n",
    "ax.set_xlabel('attributes_PCA')\n",
    "ax.set_ylabel('past_performance_PCA')\n",
    "ax.set_zlabel('goals_per_match_year3')\n",
    "\n",
    "plt.title('3D PCA plot - past performance & attributes vs target value')\n",
    "\n",
    "plt.show()"
   ]
  }
 ],
 "metadata": {
  "kernelspec": {
   "display_name": "Python 3",
   "language": "python",
   "name": "python3"
  },
  "language_info": {
   "codemirror_mode": {
    "name": "ipython",
    "version": 3
   },
   "file_extension": ".py",
   "mimetype": "text/x-python",
   "name": "python",
   "nbconvert_exporter": "python",
   "pygments_lexer": "ipython3",
   "version": "3.6.8"
  }
 },
 "nbformat": 4,
 "nbformat_minor": 2
}
