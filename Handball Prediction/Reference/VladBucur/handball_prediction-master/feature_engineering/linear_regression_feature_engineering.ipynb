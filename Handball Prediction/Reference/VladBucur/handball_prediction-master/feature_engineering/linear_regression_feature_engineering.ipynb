{
 "cells": [
  {
   "cell_type": "code",
   "execution_count": null,
   "metadata": {},
   "outputs": [],
   "source": [
    "import keras\n",
    "import matplotlib.pyplot as plt\n",
    "import numpy as np\n",
    "import pandas as pd\n",
    "import pickle\n",
    "\n",
    "from sklearn.decomposition import PCA\n",
    "from sklearn.linear_model import LinearRegression\n",
    "from sklearn.metrics import r2_score\n",
    "from sklearn.model_selection import cross_val_score\n",
    "from sklearn.model_selection import train_test_split\n",
    "from sklearn import preprocessing\n",
    "from sklearn.preprocessing import StandardScaler\n",
    "from tqdm import tqdm_notebook as tqdm"
   ]
  },
  {
   "cell_type": "code",
   "execution_count": null,
   "metadata": {},
   "outputs": [],
   "source": [
    "# read final processed data\n",
    "df = pd.read_csv('../inputs/final_processed_data.csv')\n",
    "df.head()"
   ]
  },
  {
   "cell_type": "code",
   "execution_count": null,
   "metadata": {},
   "outputs": [],
   "source": [
    "# Method to split final processed data in training / testing\n",
    "def split_data_in_training_testing(df):\n",
    "\n",
    "    data = df.sort_values(by=['goals_per_match_year3'])\n",
    "\n",
    "    data = data.drop('name', 1)\n",
    "\n",
    "    y = data[['goals_per_match_year3']].values.astype('float32')\n",
    "\n",
    "    data = data.drop('goals_per_match_year3', 1)\n",
    "    \n",
    "    x = data.values.astype('float32')\n",
    "\n",
    "    x_train, x_test, y_train, y_test = train_test_split(x, y, test_size=0.10)\n",
    "    \n",
    "    return x_train, x_test, y_train, y_test"
   ]
  },
  {
   "cell_type": "code",
   "execution_count": null,
   "metadata": {},
   "outputs": [],
   "source": [
    "# Method to compute best model using k-fold validation\n",
    "def compute_optimal_hyperparameters(x_train, y_train):\n",
    "    \n",
    "    fit_intercept_list = [False, True]\n",
    "    normalize_list = [False, True]\n",
    "    copy_X_list = [False, True]\n",
    "\n",
    "    best_score = -1000\n",
    "\n",
    "    for fit_intercept in fit_intercept_list:\n",
    "        for normalize in normalize_list:\n",
    "            for copy_X in copy_X_list:\n",
    "\n",
    "                current_model = LinearRegression(fit_intercept=fit_intercept, normalize=normalize, copy_X=copy_X)\n",
    "                current_score = cross_val_score(current_model, x_train, y_train, cv=5).mean()\n",
    "\n",
    "                if current_score > best_score:\n",
    "                    best_score = current_score\n",
    "                    best_model = current_model\n",
    "    \n",
    "    return best_score, best_model"
   ]
  },
  {
   "cell_type": "code",
   "execution_count": null,
   "metadata": {},
   "outputs": [],
   "source": [
    "# Method to plot model accuracy on test data\n",
    "def plot_model_accuracy_on_test_data(model, x_test, y_test):\n",
    "    \n",
    "    y_pred = model.predict(x_test)\n",
    "\n",
    "    plt.plot(y_pred, label='prediction')\n",
    "    plt.plot(y_test, label='true',alpha =0.3)\n",
    "    plt.legend()\n",
    "    plt.show() \n",
    "\n",
    "    fig, ax = plt.subplots()\n",
    "    plt.title('Actual value vs predicted value (goals per match year 3)')\n",
    "    ax.scatter(y_test, y_pred, edgecolors=(0, 0, 0),alpha =0.3)\n",
    "    ax.plot([min(y_test), max(y_test)], [min(y_test), max(y_test)], 'k--', lw=4)\n",
    "    ax.set_xlabel('Actual')\n",
    "    ax.set_ylabel('Predicted')\n",
    "    plt.show()"
   ]
  },
  {
   "cell_type": "code",
   "execution_count": null,
   "metadata": {},
   "outputs": [],
   "source": [
    "# Method to compute best data split and filtering values\n",
    "def compute_best_data_split(df, iterations):\n",
    "    \n",
    "    best_test_score = -1\n",
    "\n",
    "    df_copy = df.copy()\n",
    "    \n",
    "#     df_copy = df_copy[df_copy.goals_per_match_year3 < df_copy.goals_per_match_year3.quantile(.95)]\n",
    "    \n",
    "#     pca = PCA(n_components=1)\n",
    "#     df_copy['past_performance_PCA'] = pca.fit_transform(df_copy[['matches_year1','matches_year2','goals_year1',\n",
    "#                                                 'goals_year2','goals_per_match_year1','goals_per_match_year2']])\n",
    "    \n",
    "#     df_copy['height'] = df_copy['height'] / df_copy['height'].max()\n",
    "#     df_copy['matches_year1'] = df_copy['matches_year1'] / df_copy['matches_year1'].max()\n",
    "#     df_copy['matches_year2'] = df_copy['matches_year2'] / df_copy['matches_year2'].max()\n",
    "#     df_copy['goals_year1'] = df_copy['goals_year1'] / df_copy['goals_year1'].max()\n",
    "#     df_copy['goals_year2'] = df_copy['goals_year2'] / df_copy['goals_year2'].max()\n",
    "#     df_copy['goals_per_match_year1'] = df_copy['goals_per_match_year1'] / df_copy['goals_per_match_year1'].max()\n",
    "#     df_copy['goals_per_match_year2'] = df_copy['goals_per_match_year2'] / df_copy['goals_per_match_year2'].max()\n",
    "#     df_copy['goals_per_match_year3'] = df_copy['goals_per_match_year3'] / df_copy['goals_per_match_year3'].max()\n",
    "\n",
    "    df_copy['height'] = preprocessing.scale(df_copy['height'])\n",
    "    df_copy['matches_year1'] = preprocessing.scale(df_copy['matches_year1'])\n",
    "    df_copy['matches_year2'] = preprocessing.scale(df_copy['matches_year2'])\n",
    "    df_copy['goals_year1'] = preprocessing.scale(df_copy['goals_year1'])\n",
    "    df_copy['goals_year2'] = preprocessing.scale(df_copy['goals_year2'])\n",
    "    df_copy['goals_per_match_year1'] = preprocessing.scale(df_copy['goals_per_match_year1'])\n",
    "    df_copy['goals_per_match_year2'] = preprocessing.scale(df_copy['goals_per_match_year2'])\n",
    "    df_copy['goals_per_match_year3'] = preprocessing.scale(df_copy['goals_per_match_year3'])\n",
    "\n",
    "#     df_copy = df_copy[['name','center','back','wing','line','height','past_performance_PCA',\n",
    "#                        'goals_per_match_year3']]\n",
    "    \n",
    "    for i in tqdm(range(0, iterations)):\n",
    "\n",
    "        x_train, x_test, y_train, y_test = split_data_in_training_testing(df_copy)\n",
    "\n",
    "        validation_score, model = compute_optimal_hyperparameters(x_train, y_train)\n",
    "\n",
    "        model.fit(x_train,y_train)\n",
    "\n",
    "        test_score = model.score(x_test, y_test)\n",
    "\n",
    "        if abs(validation_score - test_score) < 0.05 and test_score > best_test_score:\n",
    "\n",
    "            best_model = model\n",
    "            best_validation_score = validation_score\n",
    "            best_test_score = test_score\n",
    "\n",
    "    plot_model_accuracy_on_test_data(best_model, x_test, y_test)\n",
    "\n",
    "    return best_model, best_validation_score, best_test_score"
   ]
  },
  {
   "cell_type": "code",
   "execution_count": null,
   "metadata": {
    "scrolled": true
   },
   "outputs": [],
   "source": [
    "model, best_validation_score, best_test_score = compute_best_data_split(df, 1000)\n",
    "print(best_validation_score, best_test_score)"
   ]
  }
 ],
 "metadata": {
  "kernelspec": {
   "display_name": "Python 3",
   "language": "python",
   "name": "python3"
  },
  "language_info": {
   "codemirror_mode": {
    "name": "ipython",
    "version": 3
   },
   "file_extension": ".py",
   "mimetype": "text/x-python",
   "name": "python",
   "nbconvert_exporter": "python",
   "pygments_lexer": "ipython3",
   "version": "3.6.8"
  }
 },
 "nbformat": 4,
 "nbformat_minor": 2
}
