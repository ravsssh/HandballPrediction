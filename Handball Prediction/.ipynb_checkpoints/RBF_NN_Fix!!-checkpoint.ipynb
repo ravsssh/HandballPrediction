{
  "nbformat": 4,
  "nbformat_minor": 0,
  "metadata": {
    "colab": {
      "provenance": []
    },
    "kernelspec": {
      "name": "python3",
      "display_name": "Python 3"
    },
    "language_info": {
      "name": "python"
    }
  },
  "cells": [
    {
      "cell_type": "code",
      "execution_count": 45,
      "metadata": {
        "id": "7OH6-xAx6cRC"
      },
      "outputs": [],
      "source": [
        "import numpy as np\n",
        "import pandas as pd"
      ]
    },
    {
      "cell_type": "code",
      "source": [
        "df = pd.read_csv('CB.csv', delimiter=';')\n",
        "\n",
        "from sklearn.model_selection import train_test_split\n",
        "from sklearn.gaussian_process.kernels import RBF\n",
        "\n",
        "X = df.drop(columns='GOAL')\n",
        "y = df['GOAL']\n",
        "\n",
        "length_scale = 1.0\n",
        "rbf_kernel = RBF(length_scale=length_scale)\n",
        "X_rbf = rbf_kernel(X)\n",
        "\n",
        "X_train, X_test, y_train, y_test = train_test_split(X_rbf, y, train_size=.8)"
      ],
      "metadata": {
        "id": "iguczoyE9svb"
      },
      "execution_count": 84,
      "outputs": []
    },
    {
      "cell_type": "code",
      "source": [
        "from sklearn.neural_network import MLPRegressor\n",
        "\n",
        "nn = MLPRegressor(\n",
        "    hidden_layer_sizes=10,\n",
        "    activation='tanh'\n",
        ")\n",
        "nn.fit(X_train, y_train)\n",
        "nn.score(X_test, y_test)"
      ],
      "metadata": {
        "colab": {
          "base_uri": "https://localhost:8080/"
        },
        "id": "2RGHEp2x6rJU",
        "outputId": "3cbcf9a2-9a57-4349-d8f9-12d979b229fc"
      },
      "execution_count": 85,
      "outputs": [
        {
          "output_type": "stream",
          "name": "stderr",
          "text": [
            "/usr/local/lib/python3.10/dist-packages/sklearn/neural_network/_multilayer_perceptron.py:686: ConvergenceWarning: Stochastic Optimizer: Maximum iterations (200) reached and the optimization hasn't converged yet.\n",
            "  warnings.warn(\n"
          ]
        },
        {
          "output_type": "execute_result",
          "data": {
            "text/plain": [
              "0.8888009616133021"
            ]
          },
          "metadata": {},
          "execution_count": 85
        }
      ]
    },
    {
      "cell_type": "code",
      "source": [
        "from sklearn.metrics import mean_squared_error\n",
        "\n",
        "y_pred = nn.predict(X_test)\n",
        "mse = mean_squared_error(y_pred, y_test)\n",
        "mse"
      ],
      "metadata": {
        "colab": {
          "base_uri": "https://localhost:8080/"
        },
        "id": "1rUIAaU861nM",
        "outputId": "ad3a9181-5a5d-4ba9-ac2d-9c36542da17c"
      },
      "execution_count": 86,
      "outputs": [
        {
          "output_type": "execute_result",
          "data": {
            "text/plain": [
              "0.4070766191478183"
            ]
          },
          "metadata": {},
          "execution_count": 86
        }
      ]
    },
    {
      "cell_type": "code",
      "source": [],
      "metadata": {
        "id": "X4oiE0q565m8"
      },
      "execution_count": 86,
      "outputs": []
    },
    {
      "cell_type": "code",
      "source": [],
      "metadata": {
        "id": "azuEV6fr690S"
      },
      "execution_count": 77,
      "outputs": []
    },
    {
      "cell_type": "code",
      "source": [],
      "metadata": {
        "id": "zqieCbyl81Ds"
      },
      "execution_count": 77,
      "outputs": []
    },
    {
      "cell_type": "code",
      "source": [],
      "metadata": {
        "id": "01EH5Fcj81BW"
      },
      "execution_count": 77,
      "outputs": []
    },
    {
      "cell_type": "code",
      "source": [],
      "metadata": {
        "id": "D2SyLg4Y80_a"
      },
      "execution_count": 77,
      "outputs": []
    },
    {
      "cell_type": "code",
      "source": [],
      "metadata": {
        "id": "-era-s85809V"
      },
      "execution_count": 77,
      "outputs": []
    }
  ]
}