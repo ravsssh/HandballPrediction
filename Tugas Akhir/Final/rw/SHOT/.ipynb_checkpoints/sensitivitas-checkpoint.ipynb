{
 "cells": [
  {
   "cell_type": "code",
   "execution_count": 2,
   "id": "6b26c9d8-f6cd-4bc4-a79c-7ee1cfe844bc",
   "metadata": {},
   "outputs": [],
   "source": [
    "import numpy as np\n",
    "import pandas as pd\n",
    "import tensorflow as tf\n",
    "from tensorflow.keras.utils import register_keras_serializable\n",
    "from tensorflow.keras.layers import Dense, Flatten, Layer\n",
    "from tensorflow.keras.losses import mean_squared_error\n",
    "from sklearn.metrics import r2_score\n",
    "from tensorflow.keras import backend as K\n",
    "from sklearn.preprocessing import MinMaxScaler\n",
    "import joblib\n",
    "\n",
    "\n",
    "@register_keras_serializable()\n",
    "class RBFLayer(Layer):\n",
    "    def __init__(self, units, gamma, **kwargs):\n",
    "        super(RBFLayer, self).__init__(**kwargs)\n",
    "        self.units = units\n",
    "        self.gamma = gamma\n",
    "\n",
    "    def build(self, input_shape):\n",
    "        # Create a trainable weight variable for the centers of the RBFs\n",
    "        self.centers = self.add_weight(name='centers',\n",
    "                                      shape=(self.units, input_shape[-1]),\n",
    "                                      initializer='uniform',\n",
    "                                      trainable=True)\n",
    "        super(RBFLayer, self).build(input_shape)\n",
    "\n",
    "    def call(self, inputs):\n",
    "        # Calculate the radial basis functions for each input sample and each RBF center\n",
    "        diff = K.expand_dims(inputs) - self.centers  # shape: (batch_size, units, input_dim)\n",
    "        norm = K.sum(K.square(diff), axis=-1)  # shape: (batch_size, units)\n",
    "        rbf = K.exp(-self.gamma * norm)  # shape: (batch_size, units)\n",
    "\n",
    "        return rbf\n",
    "\n",
    "    def compute_output_shape(self, input_shape):\n",
    "        return input_shape[0], self.units\n",
    "\n",
    "    \n",
    "# Load your saved Keras model\n",
    "model = tf.keras.models.load_model('model.keras', custom_objects={'RBFLayer': RBFLayer})\n",
    "my_scaler = joblib.load('scaler.gz')"
   ]
  },
  {
   "cell_type": "code",
   "execution_count": 3,
   "id": "33fffaad-ce8b-4c11-9647-12bee404fe3d",
   "metadata": {},
   "outputs": [
    {
     "name": "stdout",
     "output_type": "stream",
     "text": [
      "2/2 [==============================] - 0s 3ms/step\n"
     ]
    }
   ],
   "source": [
    "# column_names = [\"7MSHOT\", \"6MSHOT\", \"9MSHOT\", \"WINGSHOT\", \"PIVOTSHOT\", \"FASTBREAKSHOT\"]\n",
    "# input_values = np.array([[1, 1, 1, 1, 1, 1]])\n",
    "url = 'https://raw.githubusercontent.com/ravsssh/HandballPrediction/main/Handball%20Prediction/sens/RWSHOT.csv'\n",
    "# Create a DataFrame with the same column names as the scaler was fitted on\n",
    "input_df = pd.read_csv(url, delimiter=';')\n",
    "\n",
    "# Transform the input DataFrame using the loaded scaler\n",
    "scaled_input_values = my_scaler.transform(input_df)\n",
    "\n",
    "# Make predictions using the model\n",
    "predictions = model.predict(scaled_input_values)\n",
    "\n",
    "# Create a DataFrame to store predictions\n",
    "predictions_df = pd.DataFrame(predictions, columns=['Predicted_Goal'])\n",
    "\n",
    "# Concatenate input_df and predictions_df\n",
    "result_df = pd.concat([input_df, predictions_df], axis=1)\n",
    "\n",
    "\n",
    "# Save the resulting DataFrame as a new CSV file\n",
    "result_df.to_csv('predictions_with_input.csv', index=False)"
   ]
  }
 ],
 "metadata": {
  "kernelspec": {
   "display_name": "Python 3 (ipykernel)",
   "language": "python",
   "name": "python3"
  },
  "language_info": {
   "codemirror_mode": {
    "name": "ipython",
    "version": 3
   },
   "file_extension": ".py",
   "mimetype": "text/x-python",
   "name": "python",
   "nbconvert_exporter": "python",
   "pygments_lexer": "ipython3",
   "version": "3.10.9"
  }
 },
 "nbformat": 4,
 "nbformat_minor": 5
}
