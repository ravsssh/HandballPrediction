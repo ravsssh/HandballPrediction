{
 "cells": [
  {
   "cell_type": "code",
   "execution_count": null,
   "metadata": {},
   "outputs": [],
   "source": [
    "import numpy as np\n",
    "import pandas as pd\n",
    "from datetime import datetime"
   ]
  },
  {
   "cell_type": "code",
   "execution_count": null,
   "metadata": {},
   "outputs": [],
   "source": [
    "# read raw data\n",
    "raw_df = pd.read_csv('../inputs/raw_data.csv')\n",
    "print(\"Total initial entries:\", len(raw_df))\n",
    "print(\"Total number of players:\", raw_df['name'].nunique())\n",
    "raw_df.head()"
   ]
  },
  {
   "cell_type": "code",
   "execution_count": null,
   "metadata": {},
   "outputs": [],
   "source": [
    "# filter raw data\n",
    "raw_df = raw_df.dropna()\n",
    "raw_df = raw_df[(raw_df['height'] >= 120) & (raw_df['height'] <= 230)]\n",
    "raw_df = raw_df[(raw_df['matches_year1'] > 0) & (raw_df['matches_year2'] > 0) & (raw_df['matches_year3'] > 0)]\n",
    "raw_df = raw_df[(raw_df['goals_year1'] > 0) & (raw_df['goals_year2'] > 0) & (raw_df['goals_year3'] > 0)]\n",
    "raw_df = raw_df[raw_df['position'].isin(['Middle Back','Left Wing','Right Back','Right Wing','Line Player',\\\n",
    "                                         'Left Back','Back'])]\n",
    "raw_df = raw_df[raw_df['prediction_season'] != '2018/2019']\n",
    "print(\"Player positions:\", raw_df['position'].unique())\n",
    "print(\"Number of entries after filtering:\", len(raw_df))\n",
    "print(\"Number of players after filtering:\", raw_df['name'].nunique())\n",
    "raw_df.head()"
   ]
  },
  {
   "cell_type": "code",
   "execution_count": null,
   "metadata": {},
   "outputs": [],
   "source": [
    "def is_center(position):\n",
    "    if position == 'Middle Back':\n",
    "        return 1\n",
    "    else:\n",
    "        return 0\n",
    "\n",
    "def is_back(position):\n",
    "    if position == 'Right Back' or position == 'Left Back' or position == 'Back':\n",
    "        return 1\n",
    "    else:\n",
    "        return 0\n",
    "    \n",
    "def is_wing(position):\n",
    "    if position == 'Right Wing' or position == 'Left Wing':\n",
    "        return 1\n",
    "    else:\n",
    "        return 0\n",
    "    \n",
    "def is_line(position):\n",
    "    if position == 'Line Player':\n",
    "        return 1\n",
    "    else:\n",
    "        return 0"
   ]
  },
  {
   "cell_type": "code",
   "execution_count": null,
   "metadata": {},
   "outputs": [],
   "source": [
    "# build necessary columns\n",
    "raw_df['goals_per_match_year1'] = raw_df['goals_year1'] / raw_df['matches_year1']\n",
    "raw_df['goals_per_match_year2'] = raw_df['goals_year2'] / raw_df['matches_year2']\n",
    "raw_df['goals_per_match_year3'] = raw_df['goals_year3'] / raw_df['matches_year3']\n",
    "\n",
    "# create binary features for field position\n",
    "raw_df['center'] = raw_df.apply(lambda row: is_center(row['position']), axis=1)\n",
    "raw_df['back'] = raw_df.apply(lambda row: is_back(row['position']), axis=1)\n",
    "raw_df['wing'] = raw_df.apply(lambda row: is_wing(row['position']), axis=1)\n",
    "raw_df['line'] = raw_df.apply(lambda row: is_line(row['position']), axis=1)\n",
    "\n",
    "raw_df = raw_df[['name','center','back','wing','line','height','matches_year1','goals_year1',\\\n",
    "                 'goals_per_match_year1','matches_year2','goals_year2','goals_per_match_year2',\\\n",
    "                 'goals_per_match_year3']]\n",
    "\n",
    "raw_df.head()"
   ]
  },
  {
   "cell_type": "code",
   "execution_count": null,
   "metadata": {
    "scrolled": true
   },
   "outputs": [],
   "source": [
    "# print statistics\n",
    "print (\"Data shape:\",raw_df.shape[0],\"values\",\"\\n\")\n",
    "print (raw_df['height'].describe(percentiles=[.25,.50,.75]),\"\\n\")    \n",
    "print (raw_df['matches_year1'].describe(percentiles=[.25,.50,.75]),\"\\n\")\n",
    "print (raw_df['goals_year1'].describe(percentiles=[.25,.50,.75]),\"\\n\")\n",
    "print (raw_df['goals_per_match_year1'].describe(percentiles=[.25,.50,.75]),\"\\n\")\n",
    "print (raw_df['matches_year2'].describe(percentiles=[.25,.50,.75]),\"\\n\")\n",
    "print (raw_df['goals_year2'].describe(percentiles=[.25,.50,.75]),\"\\n\")\n",
    "print (raw_df['goals_per_match_year2'].describe(percentiles=[.25,.50,.75]),\"\\n\")\n",
    "print (raw_df['goals_per_match_year3'].describe(percentiles=[.25,.50,.75]),\"\\n\")"
   ]
  },
  {
   "cell_type": "code",
   "execution_count": null,
   "metadata": {},
   "outputs": [],
   "source": [
    "# save final processed data to file\n",
    "raw_df.to_csv('../inputs/final_processed_data.csv', sep=',', index=False)"
   ]
  },
  {
   "cell_type": "code",
   "execution_count": null,
   "metadata": {},
   "outputs": [],
   "source": [
    "raw_df"
   ]
  },
  {
   "cell_type": "code",
   "execution_count": null,
   "metadata": {},
   "outputs": [],
   "source": []
  }
 ],
 "metadata": {
  "kernelspec": {
   "display_name": "Python 3",
   "language": "python",
   "name": "python3"
  },
  "language_info": {
   "codemirror_mode": {
    "name": "ipython",
    "version": 3
   },
   "file_extension": ".py",
   "mimetype": "text/x-python",
   "name": "python",
   "nbconvert_exporter": "python",
   "pygments_lexer": "ipython3",
   "version": "3.6.8"
  }
 },
 "nbformat": 4,
 "nbformat_minor": 2
}
