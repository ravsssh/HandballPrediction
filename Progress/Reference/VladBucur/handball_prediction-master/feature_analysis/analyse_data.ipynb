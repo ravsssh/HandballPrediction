{
 "cells": [
  {
   "cell_type": "code",
   "execution_count": null,
   "metadata": {},
   "outputs": [],
   "source": [
    "import matplotlib.pyplot as plt\n",
    "import numpy as np\n",
    "import pandas as pd\n",
    "import seaborn as sns\n",
    "from scipy import stats"
   ]
  },
  {
   "cell_type": "markdown",
   "metadata": {},
   "source": [
    "# Read data"
   ]
  },
  {
   "cell_type": "code",
   "execution_count": null,
   "metadata": {},
   "outputs": [],
   "source": [
    "df = pd.read_csv('../inputs/final_processed_data.csv')\n",
    "df.head()"
   ]
  },
  {
   "cell_type": "markdown",
   "metadata": {},
   "source": [
    "# Print general statistics"
   ]
  },
  {
   "cell_type": "code",
   "execution_count": null,
   "metadata": {
    "scrolled": true
   },
   "outputs": [],
   "source": [
    "# print statistics\n",
    "print(\"Data shape:\",df.shape[0],\"values\",\"\\n\")\n",
    "print(df['height'].describe(percentiles=[.25,.50,.75]),\"\\n\")    \n",
    "print(df['matches_year1'].describe(percentiles=[.25,.50,.75]),\"\\n\")\n",
    "print(df['goals_year1'].describe(percentiles=[.25,.50,.75]),\"\\n\")\n",
    "print(df['goals_per_match_year1'].describe(percentiles=[.25,.50,.75]),\"\\n\")\n",
    "print(df['matches_year2'].describe(percentiles=[.25,.50,.75]),\"\\n\")\n",
    "print(df['goals_year2'].describe(percentiles=[.25,.50,.75]),\"\\n\")\n",
    "print(df['goals_per_match_year2'].describe(percentiles=[.25,.50,.75]),\"\\n\")\n",
    "print(df['goals_per_match_year3'].describe(percentiles=[.25,.50,.75]),\"\\n\")"
   ]
  },
  {
   "cell_type": "code",
   "execution_count": null,
   "metadata": {},
   "outputs": [],
   "source": [
    "# print statistics by field position\n",
    "print(\"Number of centre players:\", df['name'][df['center'] == 1].nunique())\n",
    "print(\"Number of back players:\", df['name'][df['back'] == 1].nunique())\n",
    "print(\"Number of wing players:\", df['name'][df['wing'] == 1].nunique())\n",
    "print(\"Number of line players:\", df['name'][df['line'] == 1].nunique())"
   ]
  },
  {
   "cell_type": "code",
   "execution_count": null,
   "metadata": {},
   "outputs": [],
   "source": [
    "# separating players by position\n",
    "centre_df = df[df['center'] == 1]\n",
    "back_df = df[df['back'] == 1]\n",
    "wing_df = df[df['wing'] == 1]\n",
    "line_df = df[df['line'] == 1]"
   ]
  },
  {
   "cell_type": "markdown",
   "metadata": {},
   "source": [
    "# Density plots"
   ]
  },
  {
   "cell_type": "code",
   "execution_count": null,
   "metadata": {
    "scrolled": true
   },
   "outputs": [],
   "source": [
    "# density plot for all players (parametric distribution)\n",
    "\n",
    "# the blue line represents a kernel density estimate (KDE)\n",
    "\n",
    "# the black line represents a probability density function using a gamma countinuos random variable, \n",
    "# used to view data as a normal distribution\n",
    "\n",
    "# matches played\n",
    "plt.figure()\n",
    "plt.title('Matches played density plot')\n",
    "sns.distplot(df['matches_year1'], kde=True, fit=stats.gamma)\n",
    "plt.xlabel('matches played')\n",
    "plt.ylabel('density')\n",
    "plt.show()\n",
    "\n",
    "# goals scored\n",
    "plt.figure()\n",
    "plt.title('Goals scored per season density plot')\n",
    "sns.distplot(df['goals_year1'][df['goals_year1'] > 0], kde=True, fit=stats.gamma)\n",
    "plt.xlabel('goals scored')\n",
    "plt.ylabel('density')\n",
    "plt.show()\n",
    "\n",
    "# goals scored per match\n",
    "plt.figure()\n",
    "plt.title('Goals scored per match density plot')\n",
    "sns.distplot(df['goals_per_match_year1'], kde=True, fit=stats.gamma)\n",
    "plt.xlabel('goals scored per match')\n",
    "plt.ylabel('density')\n",
    "plt.show()"
   ]
  },
  {
   "cell_type": "markdown",
   "metadata": {},
   "source": [
    "# Box plots"
   ]
  },
  {
   "cell_type": "code",
   "execution_count": null,
   "metadata": {
    "scrolled": true
   },
   "outputs": [],
   "source": [
    "def compute_position(row):    \n",
    "    if row['center'] == 1:\n",
    "        return 'centre'\n",
    "    if row['back'] == 1:\n",
    "        return 'back'\n",
    "    if row['wing'] == 1:\n",
    "        return 'wing'\n",
    "    if row['line'] == 1:\n",
    "        return 'line'\n",
    "    \n",
    "copy_df = df.copy()\n",
    "copy_df['position'] = copy_df.apply(lambda row: compute_position(row), axis=1)\n",
    "\n",
    "# plt.figure()\n",
    "\n",
    "copy_df.boxplot(column='goals_year1',by='position')\n",
    "plt.title('Goals scored during a season boxplot by position')\n",
    "plt.suptitle('')\n",
    "plt.show()\n",
    "\n",
    "copy_df.boxplot(column='goals_per_match_year1',by='position')\n",
    "plt.title('Goals scored per match boxplot by position')\n",
    "plt.suptitle('')\n",
    "plt.ylim(0,10)\n",
    "plt.show()\n",
    "\n",
    "# average and median value of goals scored per match for each position\n",
    "print('Average goals centre players:', centre_df['goals_year1'].mean())\n",
    "print('Average goals back players:', back_df['goals_year1'].mean())\n",
    "print('Average goals wing players:', wing_df['goals_year1'].mean())\n",
    "print('Average goals line players:', line_df['goals_year1'].mean())\n",
    "print()\n",
    "print('Average goals/match centre players:', centre_df['goals_per_match_year1'].mean())\n",
    "print('Average goals/match back players:', back_df['goals_per_match_year1'].mean())\n",
    "print('Average goals/match wing players:', wing_df['goals_per_match_year1'].mean())\n",
    "print('Average goals/match line players:', line_df['goals_per_match_year1'].mean())"
   ]
  },
  {
   "cell_type": "markdown",
   "metadata": {},
   "source": [
    "# Cat plots of height to goals per match"
   ]
  },
  {
   "cell_type": "code",
   "execution_count": null,
   "metadata": {
    "scrolled": true
   },
   "outputs": [],
   "source": [
    "# cat plot of height to goals per game - all players\n",
    "plt.figure()\n",
    "sns.catplot(x=\"goals_per_match_year1\", y=\"height\", data=df[[\"height\",\"goals_per_match_year1\"]])\n",
    "plt.title('Catplot - height to goals per match - all players')\n",
    "plt.xscale('log')\n",
    "plt.show()"
   ]
  },
  {
   "cell_type": "code",
   "execution_count": null,
   "metadata": {},
   "outputs": [],
   "source": [
    "# cat plot of height to goals per game - centre players\n",
    "plt.figure()\n",
    "sns.catplot(x=\"goals_per_match_year1\", y=\"height\", data=centre_df[[\"height\",\"goals_per_match_year1\"]])\n",
    "plt.title('Catplot - height to goals per match - centre players')\n",
    "plt.xscale('log')\n",
    "plt.show()"
   ]
  },
  {
   "cell_type": "code",
   "execution_count": null,
   "metadata": {},
   "outputs": [],
   "source": [
    "# cat plot of height to goals per game - back players\n",
    "plt.figure()\n",
    "sns.catplot(x=\"goals_per_match_year1\", y=\"height\", data=back_df[[\"height\",\"goals_per_match_year1\"]])\n",
    "plt.title('Catplot - height to goals per match - back players')\n",
    "plt.xscale('log')\n",
    "plt.show()"
   ]
  },
  {
   "cell_type": "code",
   "execution_count": null,
   "metadata": {},
   "outputs": [],
   "source": [
    "# cat plot of height to goals per game - wing players\n",
    "plt.figure()\n",
    "sns.catplot(x=\"goals_per_match_year1\", y=\"height\", data=wing_df[[\"height\",\"goals_per_match_year1\"]])\n",
    "plt.title('Catplot - height to goals per match - wing players')\n",
    "plt.xscale('log')\n",
    "plt.show()"
   ]
  },
  {
   "cell_type": "code",
   "execution_count": null,
   "metadata": {},
   "outputs": [],
   "source": [
    "# cat plot of height to goals per game - line players\n",
    "plt.figure()\n",
    "sns.catplot(x=\"goals_per_match_year1\", y=\"height\", data=line_df[[\"goals_per_match_year1\",\"height\"]])\n",
    "plt.title('Catplot - height to goals per match - line players')\n",
    "plt.xscale('log')\n",
    "plt.show()"
   ]
  },
  {
   "cell_type": "markdown",
   "metadata": {},
   "source": [
    "# Cat plots of matches played to goals per match"
   ]
  },
  {
   "cell_type": "code",
   "execution_count": null,
   "metadata": {},
   "outputs": [],
   "source": [
    "# cat plot of matches played to goals per match - all players\n",
    "plt.figure()\n",
    "sns.catplot(x=\"matches_year1\", y=\"goals_per_match_year1\", data=df[[\"matches_year1\",\"goals_per_match_year1\"]])\n",
    "plt.title('Catplot - matches played to goals per match - all players')\n",
    "plt.xscale('log')\n",
    "plt.xlim(0.6,60)\n",
    "plt.ylim(0,10)\n",
    "plt.show()"
   ]
  },
  {
   "cell_type": "code",
   "execution_count": null,
   "metadata": {},
   "outputs": [],
   "source": [
    "# cat plot of matches played to goals per match - centre players\n",
    "plt.figure()\n",
    "sns.catplot(x=\"matches_year1\", y=\"goals_per_match_year1\",data=centre_df[[\"matches_year1\",\"goals_per_match_year1\"]])\n",
    "plt.title('Catplot - matches played to goals per match - centre players')\n",
    "plt.xscale('log')\n",
    "plt.xlim(0.6,60)\n",
    "plt.ylim(0,10)\n",
    "plt.show()"
   ]
  },
  {
   "cell_type": "code",
   "execution_count": null,
   "metadata": {},
   "outputs": [],
   "source": [
    "# cat plot of matches played to goals per match - back players\n",
    "plt.figure()\n",
    "sns.catplot(x=\"matches_year1\", y=\"goals_per_match_year1\",data=back_df[[\"matches_year1\",\"goals_per_match_year1\"]])\n",
    "plt.title('Catplot - matches played to goals per match - back players')\n",
    "plt.xscale('log')\n",
    "plt.xlim(0.6,60)\n",
    "plt.ylim(0,10)\n",
    "plt.show()"
   ]
  },
  {
   "cell_type": "code",
   "execution_count": null,
   "metadata": {},
   "outputs": [],
   "source": [
    "# cat plot of matches played to goals per match - wing players\n",
    "plt.figure()\n",
    "sns.catplot(x=\"matches_year1\", y=\"goals_per_match_year1\",data=wing_df[[\"matches_year1\",\"goals_per_match_year1\"]])\n",
    "plt.title('Catplot - matches played to goals per match - wing players')\n",
    "plt.xscale('log')\n",
    "plt.xlim(0.6,60)\n",
    "plt.ylim(0,10)\n",
    "plt.show()"
   ]
  },
  {
   "cell_type": "code",
   "execution_count": null,
   "metadata": {},
   "outputs": [],
   "source": [
    "# cat plot of matches played to goals per match - line players\n",
    "plt.figure()\n",
    "sns.catplot(x=\"matches_year1\", y=\"goals_per_match_year1\",data=line_df[[\"matches_year1\",\"goals_per_match_year1\"]])\n",
    "plt.title('Catplot - matches played to goals per match - line players')\n",
    "plt.xscale('log')\n",
    "plt.xlim(0.6,60)\n",
    "plt.ylim(0,10)\n",
    "plt.show()"
   ]
  },
  {
   "cell_type": "markdown",
   "metadata": {},
   "source": [
    "# Correlation matrixes"
   ]
  },
  {
   "cell_type": "code",
   "execution_count": null,
   "metadata": {},
   "outputs": [],
   "source": [
    "# correlation matrix - all players\n",
    "plt.figure(figsize=[9,7])\n",
    "plt.title('Correlation matrix - all players')\n",
    "sns.heatmap(df[['center','back','wing','line','height','matches_year1','goals_year1','goals_per_match_year1',\\\n",
    "                'matches_year2','goals_year2','goals_per_match_year2','goals_per_match_year3']].corr(), annot=True)\n",
    "plt.show()"
   ]
  },
  {
   "cell_type": "code",
   "execution_count": null,
   "metadata": {},
   "outputs": [],
   "source": [
    "# correlation matrix - centre players\n",
    "plt.figure(figsize=[8,6])\n",
    "plt.title('Correlation matrix - centre players')\n",
    "sns.heatmap(centre_df[['height','matches_year1','goals_year1','goals_per_match_year1',\\\n",
    "            'matches_year2','goals_year2','goals_per_match_year2','goals_per_match_year3']].corr(), annot=True)\n",
    "plt.show()"
   ]
  },
  {
   "cell_type": "code",
   "execution_count": null,
   "metadata": {},
   "outputs": [],
   "source": [
    "# correlation matrix - back players\n",
    "plt.figure(figsize=[8,6])\n",
    "plt.title('Correlation matrix - back players')\n",
    "sns.heatmap(back_df[['height','matches_year1','goals_year1','goals_per_match_year1',\\\n",
    "            'matches_year2','goals_year2','goals_per_match_year2','goals_per_match_year3']].corr(), annot=True)\n",
    "plt.show()"
   ]
  },
  {
   "cell_type": "code",
   "execution_count": null,
   "metadata": {},
   "outputs": [],
   "source": [
    "# correlation matrix - wing players\n",
    "plt.figure(figsize=[8,6])\n",
    "plt.title('Correlation matrix - wing players')\n",
    "sns.heatmap(wing_df[['height','matches_year1','goals_year1','goals_per_match_year1',\\\n",
    "            'matches_year2','goals_year2','goals_per_match_year2','goals_per_match_year3']].corr(), annot=True)\n",
    "plt.show()"
   ]
  },
  {
   "cell_type": "code",
   "execution_count": null,
   "metadata": {},
   "outputs": [],
   "source": [
    "# correlation matrix - line players\n",
    "plt.figure(figsize=[8,6])\n",
    "plt.title('Correlation matrix - line players')\n",
    "sns.heatmap(line_df[['height','matches_year1','goals_year1','goals_per_match_year1',\\\n",
    "            'matches_year2','goals_year2','goals_per_match_year2','goals_per_match_year3']].corr(), annot=True)\n",
    "plt.show()"
   ]
  }
 ],
 "metadata": {
  "kernelspec": {
   "display_name": "Python 3",
   "language": "python",
   "name": "python3"
  },
  "language_info": {
   "codemirror_mode": {
    "name": "ipython",
    "version": 3
   },
   "file_extension": ".py",
   "mimetype": "text/x-python",
   "name": "python",
   "nbconvert_exporter": "python",
   "pygments_lexer": "ipython3",
   "version": "3.6.8"
  }
 },
 "nbformat": 4,
 "nbformat_minor": 2
}
